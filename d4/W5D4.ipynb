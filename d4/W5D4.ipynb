{
  "nbformat": 4,
  "nbformat_minor": 0,
  "metadata": {
    "kernelspec": {
      "display_name": "Python 3",
      "language": "python",
      "name": "python3"
    },
    "language_info": {
      "codemirror_mode": {
        "name": "ipython",
        "version": 3
      },
      "file_extension": ".py",
      "mimetype": "text/x-python",
      "name": "python",
      "nbconvert_exporter": "python",
      "pygments_lexer": "ipython3",
      "version": "3.6.7"
    },
    "colab": {
      "name": "W5D4.ipynb",
      "provenance": [],
      "include_colab_link": true
    }
  },
  "cells": [
    {
      "cell_type": "markdown",
      "metadata": {
        "id": "view-in-github",
        "colab_type": "text"
      },
      "source": [
        "<a href=\"https://colab.research.google.com/github/digitalminimal/w5/blob/main/d4/W5D4.ipynb\" target=\"_parent\"><img src=\"https://colab.research.google.com/assets/colab-badge.svg\" alt=\"Open In Colab\"/></a>"
      ]
    },
    {
      "cell_type": "code",
      "metadata": {
        "id": "gC2cc2ugYfPM"
      },
      "source": [
        "from IPython.display import Image"
      ],
      "execution_count": 21,
      "outputs": []
    },
    {
      "cell_type": "code",
      "metadata": {
        "colab": {
          "base_uri": "https://localhost:8080/",
          "height": 37
        },
        "id": "YlBf8kJEYfPQ",
        "outputId": "5c6d643d-421f-4374-874d-21716885f5ae"
      },
      "source": [
        "Image(\"img/1.png\")"
      ],
      "execution_count": 22,
      "outputs": [
        {
          "output_type": "execute_result",
          "data": {
            "image/png": "img/1.png",
            "text/plain": [
              "<IPython.core.display.Image object>"
            ]
          },
          "metadata": {},
          "execution_count": 22
        }
      ]
    },
    {
      "cell_type": "code",
      "metadata": {
        "colab": {
          "base_uri": "https://localhost:8080/",
          "height": 37
        },
        "id": "8vIv1Z1uYfPR",
        "outputId": "e233c69f-2ffd-4651-ba23-159cba843e08"
      },
      "source": [
        "Image(\"img/2.png\")"
      ],
      "execution_count": 23,
      "outputs": [
        {
          "output_type": "execute_result",
          "data": {
            "image/png": "img/2.png",
            "text/plain": [
              "<IPython.core.display.Image object>"
            ]
          },
          "metadata": {},
          "execution_count": 23
        }
      ]
    },
    {
      "cell_type": "code",
      "metadata": {
        "colab": {
          "base_uri": "https://localhost:8080/"
        },
        "id": "mVvILyXGYfPR",
        "outputId": "84f35467-4304-47f2-a44b-7e3ad638c085"
      },
      "source": [
        "# And import the libraries\n",
        "import IPython\n",
        "import matplotlib.pyplot as plt\n",
        "import numpy as np\n",
        "import pandas as pd\n",
        "from IPython.display import HTML\n",
        "\n",
        "%pylab inline\n",
        "!pip install git+git://github.com/mgelbart/plot-classifier.git #plot_classifier install\n",
        "from plot_classifier import plot_classifier\n",
        "from sklearn.dummy import DummyClassifier\n",
        "from sklearn.feature_extraction.text import (\n",
        "    CountVectorizer,\n",
        "    TfidfTransformer,\n",
        "    TfidfVectorizer,\n",
        ")\n",
        "\n",
        "# train test split and cross validation\n",
        "from sklearn.model_selection import (\n",
        "    GridSearchCV,\n",
        "    cross_val_score,\n",
        "    cross_validate,\n",
        "    train_test_split,\n",
        ")\n",
        "\n",
        "from sklearn.pipeline import Pipeline, make_pipeline\n",
        "\n",
        "from sklearn.svm import SVC\n",
        "from sklearn.tree import DecisionTreeClassifier\n",
        "from sklearn.neighbors import KNeighborsClassifier\n",
        "\n",
        "%matplotlib inline\n",
        "from sklearn.naive_bayes import MultinomialNB, BernoulliNB, GaussianNB\n",
        "\n",
        "pd.set_option(\"display.max_colwidth\", 200)"
      ],
      "execution_count": 24,
      "outputs": [
        {
          "output_type": "stream",
          "name": "stdout",
          "text": [
            "Populating the interactive namespace from numpy and matplotlib\n",
            "Collecting git+git://github.com/mgelbart/plot-classifier.git\n",
            "  Cloning git://github.com/mgelbart/plot-classifier.git to /tmp/pip-req-build-o9ba87mx\n",
            "  Running command git clone -q git://github.com/mgelbart/plot-classifier.git /tmp/pip-req-build-o9ba87mx\n",
            "Requirement already satisfied: numpy>=1.12 in /usr/local/lib/python3.7/dist-packages (from plot-classifier==0.1) (1.19.5)\n",
            "Requirement already satisfied: matplotlib>=2.1 in /usr/local/lib/python3.7/dist-packages (from plot-classifier==0.1) (3.2.2)\n",
            "Requirement already satisfied: pyparsing!=2.0.4,!=2.1.2,!=2.1.6,>=2.0.1 in /usr/local/lib/python3.7/dist-packages (from matplotlib>=2.1->plot-classifier==0.1) (2.4.7)\n",
            "Requirement already satisfied: python-dateutil>=2.1 in /usr/local/lib/python3.7/dist-packages (from matplotlib>=2.1->plot-classifier==0.1) (2.8.2)\n",
            "Requirement already satisfied: kiwisolver>=1.0.1 in /usr/local/lib/python3.7/dist-packages (from matplotlib>=2.1->plot-classifier==0.1) (1.3.2)\n",
            "Requirement already satisfied: cycler>=0.10 in /usr/local/lib/python3.7/dist-packages (from matplotlib>=2.1->plot-classifier==0.1) (0.10.0)\n",
            "Requirement already satisfied: six in /usr/local/lib/python3.7/dist-packages (from cycler>=0.10->matplotlib>=2.1->plot-classifier==0.1) (1.15.0)\n"
          ]
        }
      ]
    },
    {
      "cell_type": "markdown",
      "metadata": {
        "id": "VJGPce-aYfPS"
      },
      "source": [
        "## Review: Conditional probabilities"
      ]
    },
    {
      "cell_type": "markdown",
      "metadata": {
        "id": "UVeE_NKvYfPT"
      },
      "source": [
        "- Conditional probabilities are a way of using information we have about random variables.\n",
        "- For example, for a fair 6-sided dice, what if we already know the roll is odd, because someone told us. What are the 6 _conditional_ probabilities of each outcome?\n",
        "  - They are: {3: 1/3, 5: 1/3, 1: 1/3, 2: 0/3, 4: 0/3, 6: 0/3}\n",
        "- We write conditional probabilities with a vertical bar, `|`. The information we're conditioning on goes after the bar.\n",
        "  - E.g., $P(X=i \\mid \\text{X is odd})$ is a **conditional probability**\n",
        "  - The set of these values form the **conditional distribution**\n",
        "    - Conditional distributions are still probability distributions - they must sum up to 1."
      ]
    },
    {
      "cell_type": "markdown",
      "metadata": {
        "id": "VKW48iEkYfPU"
      },
      "source": [
        "- So, what's the pattern here?\n",
        "  - The conditioning _eliminates some possible outcomes_.\n",
        "  - For the remaining outcomes, we _renormalized_ the distribution.\n",
        "  - That is, we took the proportion of the allowed outcomes that satisfy the event description."
      ]
    },
    {
      "cell_type": "markdown",
      "metadata": {
        "id": "A77lo31RYfPU"
      },
      "source": [
        "### Conditional probabilities - formalizing things\n",
        "\n",
        "The key equation with conditional probabilities is\n",
        "\n",
        "$$P(A\\mid B)=\\frac{P(A \\cap B)}{P(B)}$$\n",
        "\n",
        "The \"renormalizing\" trick is a consequence of this. \n",
        "\n",
        "Consider, what's the probability of rolling a 6 given that the roll is not 1?\n",
        "\n",
        "- Let $A$ be the roll is a 6\n",
        "- Let $B$ be the roll is a not a 1\n",
        "\n",
        "$$P(A\\mid B)=\\frac{P(A \\cap B)}{P(B)}=\\frac{P(A)}{P(B)}=\\frac{1/6}{5/6}=\\frac{1}{5}$$\n",
        "\n",
        "In this case, we had the simplification that $P(A\\cap B)=P(A)$. WHY? This is often not the case."
      ]
    },
    {
      "cell_type": "markdown",
      "metadata": {
        "id": "bB8X-J9kYfPU"
      },
      "source": [
        "### Bayes' Theorem"
      ]
    },
    {
      "cell_type": "code",
      "metadata": {
        "colab": {
          "base_uri": "https://localhost:8080/",
          "height": 317
        },
        "id": "KZEuJC6WYfPU",
        "outputId": "e7844469-9c2b-424e-86c2-e29bc8615fa5"
      },
      "source": [
        "Image(\"img/bayesthm.jpeg\",width = 600, height = 300)"
      ],
      "execution_count": 25,
      "outputs": [
        {
          "output_type": "execute_result",
          "data": {
            "image/png": "img/bayesthm.jpeg",
            "text/plain": [
              "<IPython.core.display.Image object>"
            ]
          },
          "metadata": {
            "image/png": {
              "width": 600,
              "height": 300
            }
          },
          "execution_count": 25
        }
      ]
    },
    {
      "cell_type": "code",
      "metadata": {
        "colab": {
          "base_uri": "https://localhost:8080/",
          "height": 317
        },
        "id": "AIr8gSwrYfPV",
        "outputId": "0626b311-73fa-4d59-c01a-ac12ab4fe847"
      },
      "source": [
        "Image(\"img/bayesexample.PNG\",width = 600, height = 300)"
      ],
      "execution_count": 26,
      "outputs": [
        {
          "output_type": "execute_result",
          "data": {
            "image/png": "img/bayesexample.PNG",
            "text/plain": [
              "<IPython.core.display.Image object>"
            ]
          },
          "metadata": {
            "image/png": {
              "width": 600,
              "height": 300
            }
          },
          "execution_count": 26
        }
      ]
    },
    {
      "cell_type": "markdown",
      "metadata": {
        "id": "iPVT9YrwYfPV"
      },
      "source": [
        "**Another Example:** A heritable disease occurs randomly in 10% of the population. If someone has the disease, it is passed on to their children with probability 50%. A mother has 1 healthy child. Given this, what's the conditional probability that the mother has the disease? \n",
        "\n",
        "- Is the answer 10%? Less? More? How do we quantify it?\n",
        "  - Let $M$ be the event that the mother has the disease.\n",
        "  - Let $C$ be the event that the child has the disease.\n",
        "  - We want $P(M\\mid \\textrm{not } C)$. We have $P(M)=0.1$ and $P(\\textrm{not }C\\mid M)=0.5$."
      ]
    },
    {
      "cell_type": "markdown",
      "metadata": {
        "id": "uBvD0i2YYfPV"
      },
      "source": [
        "Solution:\n",
        "\n",
        "$$P(M \\mid \\textrm{not } C) = \\frac{P(\\textrm{not } C \\mid M)P(M)}{P(\\textrm{not } C)}$$\n",
        "\n",
        "So we still need $P(\\textrm{not } C)$. This could happen in 2 ways (\"law of total probability\")\n",
        "\n",
        "$$P(\\textrm{not } C)=P(\\textrm{not } C \\mid M)P(M) + P(\\textrm{not } C \\mid \\textrm{not } M)P(\\textrm{not } M)$$\n",
        "\n",
        "We know $P(\\textrm{not } M)=1-P(M)=0.9$.   \n",
        "We assume $P( C \\mid \\textrm{not } M)=0.1$ because the child can randomly get the disease like anyone else,   \n",
        "so then $P(\\textrm{not } C \\mid \\textrm{not } M)=1-P( C \\mid \\textrm{not } M)=0.9$. \n",
        "\n",
        "Finally, then, we're left with:\n",
        "\n",
        "$$P(M \\mid \\textrm{not } C) = \\frac{0.5 \\times 0.1}{0.5\\times 0.1 + 0.9 \\times 0.9} = 0.058$$\n"
      ]
    },
    {
      "cell_type": "markdown",
      "metadata": {
        "id": "lUU_9M9BYfPW"
      },
      "source": [
        "- We can get what we need using **Bayes' Theorem**."
      ]
    },
    {
      "cell_type": "markdown",
      "metadata": {
        "id": "N1sHQzIsYfPW"
      },
      "source": [
        "If curious, you should also review:\n",
        "- Law of Total Probability  $P(X=x)=\\sum_y P(X=x\\mid Y=y)P(Y=y)$"
      ]
    },
    {
      "cell_type": "markdown",
      "metadata": {
        "id": "VnYsh0MyYfPW"
      },
      "source": [
        "## Naive Bayes\n",
        "\n",
        "- For years, best spam filtering methods used naive Bayes.\n",
        "- Our first probabilistic classifier where we **think of learning as a problem of statistical inference**.\n",
        "\n",
        "- Classification technique based on Bayes’ Theorem **with an assumption of independence among predictors** - hence the Naive. \n",
        "    - The presence of a particular feature in a class is unrelated to the presence of any other feature.\n",
        "    - This is like saying: If you are hungry the probability of the symptoms(growling stomach, mouth watering, weakness,...) manifesting are independant \n",
        "\n",
        "E.g. You receive a spam mail that contains the words \"Money\", \"URGENT!\", \"Prize!\". Even if these features depend on each other or others, all of these properties independently contribute to the probability that this email is SPAM.\n",
        "\n",
        "- Naive Bayes is easy to build and useful for very large data sets. \n",
        "\n",
        "- Naive Bayes outperforms even highly sophisticated classification methods and works well with text data."
      ]
    },
    {
      "cell_type": "markdown",
      "metadata": {
        "id": "prkLHx_vYfPX"
      },
      "source": [
        "## Naive Bayes Classifier\n",
        "\n",
        "\n",
        "Before understanding the theory, let's try `scikit-learn`'s implementation of Naive Bayes on Kaggle's [SMS Spam Collection Dataset](https://www.kaggle.com/uciml/sms-spam-collection-dataset)."
      ]
    },
    {
      "cell_type": "markdown",
      "metadata": {
        "id": "fS_DBXyQYfPX"
      },
      "source": [
        "#### We will use `CountVectorizer` to get bag-of-words (BOW) representation - We will come back to this later in more detail!\n",
        "\n",
        "- So we used `CountVectorizer` to convert text data into feature vectors where\n",
        "    - each feature is a unique word in the text  \n",
        "    - each feature value represents the frequency or presence/absence of the word in the given message         \n",
        "    \n",
        "<img src='./img/bag-of-words.png' width=\"600\">\n",
        "\n",
        "[Source](https://web.stanford.edu/~jurafsky/slp3/4.pdf)       "
      ]
    },
    {
      "cell_type": "code",
      "metadata": {
        "id": "yAZbs733YfPX"
      },
      "source": [
        "sms_df = pd.read_csv(\"spam.csv\", encoding=\"latin-1\")\n",
        "sms_df = sms_df.drop([\"Unnamed: 2\", \"Unnamed: 3\", \"Unnamed: 4\"], axis=1)\n",
        "sms_df = sms_df.rename(columns={\"v1\": \"target\", \"v2\": \"sms\"})"
      ],
      "execution_count": 27,
      "outputs": []
    },
    {
      "cell_type": "code",
      "metadata": {
        "id": "or1rkNMSYfPX"
      },
      "source": [
        "train_df, test_df = train_test_split(sms_df, test_size=0.2, random_state=123)\n",
        "X_train, y_train = train_df[\"sms\"], train_df[\"target\"]\n",
        "X_test, y_test = test_df[\"sms\"], test_df[\"target\"]"
      ],
      "execution_count": 28,
      "outputs": []
    },
    {
      "cell_type": "code",
      "metadata": {
        "colab": {
          "base_uri": "https://localhost:8080/",
          "height": 238
        },
        "id": "4sQiricTYfPY",
        "outputId": "ad7bd46b-ad98-47b0-9404-8371a1b1332d"
      },
      "source": [
        "train_df.head()"
      ],
      "execution_count": 29,
      "outputs": [
        {
          "output_type": "execute_result",
          "data": {
            "text/html": [
              "<div>\n",
              "<style scoped>\n",
              "    .dataframe tbody tr th:only-of-type {\n",
              "        vertical-align: middle;\n",
              "    }\n",
              "\n",
              "    .dataframe tbody tr th {\n",
              "        vertical-align: top;\n",
              "    }\n",
              "\n",
              "    .dataframe thead th {\n",
              "        text-align: right;\n",
              "    }\n",
              "</style>\n",
              "<table border=\"1\" class=\"dataframe\">\n",
              "  <thead>\n",
              "    <tr style=\"text-align: right;\">\n",
              "      <th></th>\n",
              "      <th>target</th>\n",
              "      <th>sms</th>\n",
              "    </tr>\n",
              "  </thead>\n",
              "  <tbody>\n",
              "    <tr>\n",
              "      <th>385</th>\n",
              "      <td>ham</td>\n",
              "      <td>It took Mr owl 3 licks</td>\n",
              "    </tr>\n",
              "    <tr>\n",
              "      <th>4003</th>\n",
              "      <td>ham</td>\n",
              "      <td>Well there's a pattern emerging of my friends telling me to drive up and come smoke with them and then telling me that I'm a weed fiend/make them smoke too much/impede their doing other things so ...</td>\n",
              "    </tr>\n",
              "    <tr>\n",
              "      <th>1283</th>\n",
              "      <td>ham</td>\n",
              "      <td>Yes i thought so. Thanks.</td>\n",
              "    </tr>\n",
              "    <tr>\n",
              "      <th>2327</th>\n",
              "      <td>spam</td>\n",
              "      <td>URGENT! Your mobile number *************** WON a å£2000 Bonus Caller prize on 10/06/03! This is the 2nd attempt to reach you! Call 09066368753 ASAP! Box 97N7QP, 150ppm</td>\n",
              "    </tr>\n",
              "    <tr>\n",
              "      <th>1103</th>\n",
              "      <td>ham</td>\n",
              "      <td>Aiyah sorry lor... I watch tv watch until i forgot 2 check my phone.</td>\n",
              "    </tr>\n",
              "  </tbody>\n",
              "</table>\n",
              "</div>"
            ],
            "text/plain": [
              "     target                                                                                                                                                                                                      sms\n",
              "385     ham                                                                                                                                                                                   It took Mr owl 3 licks\n",
              "4003    ham  Well there's a pattern emerging of my friends telling me to drive up and come smoke with them and then telling me that I'm a weed fiend/make them smoke too much/impede their doing other things so ...\n",
              "1283    ham                                                                                                                                                                                Yes i thought so. Thanks.\n",
              "2327   spam                                  URGENT! Your mobile number *************** WON a å£2000 Bonus Caller prize on 10/06/03! This is the 2nd attempt to reach you! Call 09066368753 ASAP! Box 97N7QP, 150ppm\n",
              "1103    ham                                                                                                                                     Aiyah sorry lor... I watch tv watch until i forgot 2 check my phone."
            ]
          },
          "metadata": {},
          "execution_count": 29
        }
      ]
    },
    {
      "cell_type": "code",
      "metadata": {
        "colab": {
          "base_uri": "https://localhost:8080/"
        },
        "id": "pGnGCaK2YfPY",
        "outputId": "4a2ad4c9-6dcd-495a-d890-366a08ded5c3"
      },
      "source": [
        "from sklearn.naive_bayes import MultinomialNB\n",
        "\n",
        "pipe_nb = make_pipeline(CountVectorizer(), MultinomialNB())\n",
        "pipe_nb.fit(X_train, y_train)\n",
        "print(\"Training Acc.: \", pipe_nb.score(X_train,y_train))\n",
        "print(\"Valid Acc.: \", pipe_nb.score(X_test,y_test))"
      ],
      "execution_count": 30,
      "outputs": [
        {
          "output_type": "stream",
          "name": "stdout",
          "text": [
            "Training Acc.:  0.9932690150325331\n",
            "Valid Acc.:  0.9865470852017937\n"
          ]
        }
      ]
    },
    {
      "cell_type": "markdown",
      "metadata": {
        "id": "tAX_pibBYfPY"
      },
      "source": [
        "### Naive Bayes `predict`\n",
        "\n",
        "- Given a new message, we want to predict whether it's spam or non spam (ham).\n",
        "- Example: Predict whether the following message is spam or non spam (ham). \n",
        "> \"URGENT! Free!!\""
      ]
    },
    {
      "cell_type": "code",
      "metadata": {
        "colab": {
          "base_uri": "https://localhost:8080/"
        },
        "id": "pz8MmR42YfPY",
        "outputId": "1bb93c2c-9182-46ee-816d-d85646fa369e"
      },
      "source": [
        "deploy_test = [\"URGENT! Free!!\", \"I like learning about stats!\"]\n",
        "pipe_nb.predict(deploy_test)"
      ],
      "execution_count": 31,
      "outputs": [
        {
          "output_type": "execute_result",
          "data": {
            "text/plain": [
              "array(['spam', 'ham'], dtype='<U4')"
            ]
          },
          "metadata": {},
          "execution_count": 31
        }
      ]
    },
    {
      "cell_type": "markdown",
      "metadata": {
        "id": "LMov9PScYfPZ"
      },
      "source": [
        "### Probabilistic classifiers: `predict` by hand \n",
        "\n",
        "- What's it's doing under the hood? \n",
        "- Let's look at an example with a toy dataset. "
      ]
    },
    {
      "cell_type": "code",
      "metadata": {
        "id": "aDpVITYWYfPZ"
      },
      "source": [
        "X = [\n",
        "    \"URGENT!! As a valued network customer you have been selected to receive a £900 prize reward!\",\n",
        "    \"Lol you are always so convincing.\",\n",
        "    \"Block 2 has interesting courses.\",\n",
        "    \"URGENT! You have won a 1 week FREE membership in our £100000 prize Jackpot!\",\n",
        "    \"Had your mobile 11 months or more? U R entitled to Update to the latest colour mobiles with camera for Free!\",\n",
        "    \"Block 2 has been interesting so far.\",\n",
        "]\n",
        "y = [\"spam\", \"non spam\", \"non spam\", \"spam\", \"spam\", \"non spam\"]"
      ],
      "execution_count": 32,
      "outputs": []
    },
    {
      "cell_type": "code",
      "metadata": {
        "id": "8wVuMEB4YfPZ"
      },
      "source": [
        "pipe_nb_toy = make_pipeline(CountVectorizer(max_features = 4, stop_words='english'), MultinomialNB())\n",
        "pipe_nb_toy.fit(X, y);"
      ],
      "execution_count": 33,
      "outputs": []
    },
    {
      "cell_type": "code",
      "metadata": {
        "id": "RTwVuiXPYfPa"
      },
      "source": [
        "data = pipe_nb_toy['countvectorizer'].transform(X)\n",
        "train_bow_df = pd.DataFrame(data.toarray(), columns=pipe_nb_toy['countvectorizer'].get_feature_names(), index=X)\n",
        "train_bow_df['target'] = y"
      ],
      "execution_count": 34,
      "outputs": []
    },
    {
      "cell_type": "code",
      "metadata": {
        "colab": {
          "base_uri": "https://localhost:8080/",
          "height": 833
        },
        "id": "VpSR2vaLYfPa",
        "outputId": "8a73faca-0b6c-47a4-9ac7-3726beba4658"
      },
      "source": [
        "train_bow_df"
      ],
      "execution_count": 35,
      "outputs": [
        {
          "output_type": "execute_result",
          "data": {
            "text/html": [
              "<div>\n",
              "<style scoped>\n",
              "    .dataframe tbody tr th:only-of-type {\n",
              "        vertical-align: middle;\n",
              "    }\n",
              "\n",
              "    .dataframe tbody tr th {\n",
              "        vertical-align: top;\n",
              "    }\n",
              "\n",
              "    .dataframe thead th {\n",
              "        text-align: right;\n",
              "    }\n",
              "</style>\n",
              "<table border=\"1\" class=\"dataframe\">\n",
              "  <thead>\n",
              "    <tr style=\"text-align: right;\">\n",
              "      <th></th>\n",
              "      <th>block</th>\n",
              "      <th>free</th>\n",
              "      <th>prize</th>\n",
              "      <th>urgent</th>\n",
              "      <th>target</th>\n",
              "    </tr>\n",
              "  </thead>\n",
              "  <tbody>\n",
              "    <tr>\n",
              "      <th>URGENT!! As a valued network customer you have been selected to receive a £900 prize reward!</th>\n",
              "      <td>0</td>\n",
              "      <td>0</td>\n",
              "      <td>1</td>\n",
              "      <td>1</td>\n",
              "      <td>spam</td>\n",
              "    </tr>\n",
              "    <tr>\n",
              "      <th>Lol you are always so convincing.</th>\n",
              "      <td>0</td>\n",
              "      <td>0</td>\n",
              "      <td>0</td>\n",
              "      <td>0</td>\n",
              "      <td>non spam</td>\n",
              "    </tr>\n",
              "    <tr>\n",
              "      <th>Block 2 has interesting courses.</th>\n",
              "      <td>1</td>\n",
              "      <td>0</td>\n",
              "      <td>0</td>\n",
              "      <td>0</td>\n",
              "      <td>non spam</td>\n",
              "    </tr>\n",
              "    <tr>\n",
              "      <th>URGENT! You have won a 1 week FREE membership in our £100000 prize Jackpot!</th>\n",
              "      <td>0</td>\n",
              "      <td>1</td>\n",
              "      <td>1</td>\n",
              "      <td>1</td>\n",
              "      <td>spam</td>\n",
              "    </tr>\n",
              "    <tr>\n",
              "      <th>Had your mobile 11 months or more? U R entitled to Update to the latest colour mobiles with camera for Free!</th>\n",
              "      <td>0</td>\n",
              "      <td>1</td>\n",
              "      <td>0</td>\n",
              "      <td>0</td>\n",
              "      <td>spam</td>\n",
              "    </tr>\n",
              "    <tr>\n",
              "      <th>Block 2 has been interesting so far.</th>\n",
              "      <td>1</td>\n",
              "      <td>0</td>\n",
              "      <td>0</td>\n",
              "      <td>0</td>\n",
              "      <td>non spam</td>\n",
              "    </tr>\n",
              "  </tbody>\n",
              "</table>\n",
              "</div>"
            ],
            "text/plain": [
              "                                                                                                              block  ...    target\n",
              "URGENT!! As a valued network customer you have been selected to receive a £900 prize reward!                      0  ...      spam\n",
              "Lol you are always so convincing.                                                                                 0  ...  non spam\n",
              "Block 2 has interesting courses.                                                                                  1  ...  non spam\n",
              "URGENT! You have won a 1 week FREE membership in our £100000 prize Jackpot!                                       0  ...      spam\n",
              "Had your mobile 11 months or more? U R entitled to Update to the latest colour mobiles with camera for Free!      0  ...      spam\n",
              "Block 2 has been interesting so far.                                                                              1  ...  non spam\n",
              "\n",
              "[6 rows x 5 columns]"
            ]
          },
          "metadata": {},
          "execution_count": 35
        }
      ]
    },
    {
      "cell_type": "markdown",
      "metadata": {
        "id": "WygzqkKlYfPa"
      },
      "source": [
        "Suppose we are given text messages in `deploy_test` and we want to find the targets for these examples, how do we do it using naive Bayes?\n",
        "\n",
        "First, let's get numeric representation of our text messages. "
      ]
    },
    {
      "cell_type": "code",
      "metadata": {
        "id": "5lHIK3l2YfPa"
      },
      "source": [
        "deploy_test = [\"URGENT! Free!!\", \"I like Week 5 block better.\"]\n",
        "data = pipe_nb_toy['countvectorizer'].transform(deploy_test).toarray()\n",
        "bow_df = pd.DataFrame(data, columns=pipe_nb_toy['countvectorizer'].get_feature_names(), index=deploy_test)\n"
      ],
      "execution_count": 36,
      "outputs": []
    },
    {
      "cell_type": "code",
      "metadata": {
        "colab": {
          "base_uri": "https://localhost:8080/",
          "height": 199
        },
        "id": "zViI0vhXYfPa",
        "outputId": "97c6577f-29cc-4677-e151-46d71a89411b"
      },
      "source": [
        "bow_df"
      ],
      "execution_count": 37,
      "outputs": [
        {
          "output_type": "execute_result",
          "data": {
            "text/html": [
              "<div>\n",
              "<style scoped>\n",
              "    .dataframe tbody tr th:only-of-type {\n",
              "        vertical-align: middle;\n",
              "    }\n",
              "\n",
              "    .dataframe tbody tr th {\n",
              "        vertical-align: top;\n",
              "    }\n",
              "\n",
              "    .dataframe thead th {\n",
              "        text-align: right;\n",
              "    }\n",
              "</style>\n",
              "<table border=\"1\" class=\"dataframe\">\n",
              "  <thead>\n",
              "    <tr style=\"text-align: right;\">\n",
              "      <th></th>\n",
              "      <th>block</th>\n",
              "      <th>free</th>\n",
              "      <th>prize</th>\n",
              "      <th>urgent</th>\n",
              "    </tr>\n",
              "  </thead>\n",
              "  <tbody>\n",
              "    <tr>\n",
              "      <th>URGENT! Free!!</th>\n",
              "      <td>0</td>\n",
              "      <td>1</td>\n",
              "      <td>0</td>\n",
              "      <td>1</td>\n",
              "    </tr>\n",
              "    <tr>\n",
              "      <th>I like Week 5 block better.</th>\n",
              "      <td>1</td>\n",
              "      <td>0</td>\n",
              "      <td>0</td>\n",
              "      <td>0</td>\n",
              "    </tr>\n",
              "  </tbody>\n",
              "</table>\n",
              "</div>"
            ],
            "text/plain": [
              "                             block  free  prize  urgent\n",
              "URGENT! Free!!                   0     1      0       1\n",
              "I like Week 5 block better.      1     0      0       0"
            ]
          },
          "metadata": {},
          "execution_count": 37
        }
      ]
    },
    {
      "cell_type": "markdown",
      "metadata": {
        "id": "P2emxd12YfPa"
      },
      "source": [
        "### Naive Bayes prediction idea\n",
        "\n",
        "Suppose we want to predict whether the following message is \"spam\" or \"non spam\".\n",
        "> \"URGENT! Free!!\"\n",
        "\n",
        "Representation of the message: `[0, 1, 0, 1]`\n",
        "\n",
        "To predict the correct class, naive Bayes calculates the following probability scores using Bayes Theorem. \n",
        "\n",
        "- $P(\\text{spam} \\mid \\text{block} = 0, \\text{free} = 1, \\text{prize} = 0, \\text{urgent=1})$ \n",
        "- $P(\\text{non spam} \\mid  \\text{block} = 0, \\text{free} = 1, \\text{prize} = 0, \\text{urgent=1})$\n",
        "- **Picks the label with higher probability scores**. "
      ]
    },
    {
      "cell_type": "markdown",
      "metadata": {
        "id": "frlZIP3MYfPb"
      },
      "source": [
        "### Applying Bayes' theorem \n",
        "\n",
        "Uses Bayes' theorem to calculate probabilities:\n",
        "\n",
        "$$P(A \\mid B) = \\frac{P(B \\mid A) \\times P(A)}{P(B)}$$\n",
        "\n",
        "$$P(\\text{spam} \\mid \\text{message})= \\frac{P(\\text{block} = 0, \\text{free} = 1, \\text{prize} = 0, \\text{urgent} = 1 \\mid \\text{spam}) \\times P(\\text{spam})}{P(\\text{block} = 0, \\text{free} = 1, \\text{prize} = 0, \\text{urgent=1})}$$\n",
        "\n",
        "$$P(\\text{non spam} \\mid \\text{message}) = \\frac{P(\\text{block} = 0, \\text{free} = 1, \\text{prize} = 0, \\text{urgent} = 1 \\mid \\text{non spam}) \\times P( \\text{non spam})}{P(\\text{block} = 0, \\text{free} = 1, \\text{prize} = 0, \\text{urgent=1})}$$\n",
        "\n",
        "- $P(\\text{message})$: marginal probability that a message has the given set of words \n",
        "    - Hard to calculate but can be ignored in our scenario as it occurs in the denominator for both $P(\\text{spam} \\mid \\text{message})$ and $P(\\text{non spam} \\mid \\text{message})$.\n",
        "    - So we ignore the denominator in both cases. \n"
      ]
    },
    {
      "cell_type": "markdown",
      "metadata": {
        "id": "vjSjV_W8YfPb"
      },
      "source": [
        "### Let's focus on $P(\\text{spam} \\mid \\text{message})$\n",
        "\n",
        "- After ignoring the denominator: \n",
        "$$P(\\text{spam} \\mid \\text{message}) \\propto P(\\text{block} = 0, \\text{free} = 1, \\text{prize} = 0, \\text{urgent} = 1 \\mid \\text{spam}) \\times P(\\text{spam})$$\n",
        "\n",
        "- To calculate $P(\\text{spam} \\mid \\text{message})$, we need:  \n",
        "    - $P(\\text{spam})$: marginal probability that a message is spam\n",
        "    - $P(\\text{message}\\mid\\text{spam})$: conditional probability that message has words $w_1, w_2, \\dots, w_d$, given that it is spam.\n",
        "        - Hard to calculate because it would require huge numbers of parameters and impossibly large training sets. But we need it. \n",
        "        - with $d$ binary features, how many possible \"text messages\" are there?\n",
        "        - we cannot possibly have access to all the data"
      ]
    },
    {
      "cell_type": "markdown",
      "metadata": {
        "id": "Zb0KmPttYfPc"
      },
      "source": [
        "### Naive Bayes' approximation to calculate $P(\\text{message}|\\text{spam})$\n",
        "\n",
        "- A common assmption is **naive Bayes** assumption, which states that **features are independent, conditioned on the target**. \n",
        "    - Example: In our spam classification example, **once you know that a message is spam**, the probability that the word \"urgent\" appears is independent of whether \"free\" also appeared. Think back to our analogy of getting hungry and the symptoms associated with that...\n",
        "    \n",
        "- We can write this mathematically as \n",
        "\n",
        "$$\\begin{equation}\n",
        "\\begin{split}\n",
        "& P(\\text{block} = 0, \\text{free} = 1, \\text{prize} = 0, \\text{urgent} = 1 \\mid \\text{spam}) \\\\\n",
        "&\\approx P(\\text{block} = 0 \\mid \\text{spam}) \\times P(\\text{free} = 1 \\mid \\text{spam}) \\times P(\\text{prize} = 0 \\mid \\text{spam}) \\times P(\\text{urgent} = 1 \\mid \\text{spam})\n",
        "\\end{split}\n",
        "\\end{equation}$$\n"
      ]
    },
    {
      "cell_type": "markdown",
      "metadata": {
        "id": "ItJJ9P19YfPc"
      },
      "source": [
        "### Naive Bayes' approximation\n",
        "\n",
        "- In general, \n",
        "$$P(\\text{message} \\mid \\text{spam}) = P(w_1, w_2, . . . , w_d \\mid \\text{spam}) \\approx \\prod_{i=1}^{d}P(w_i \\mid \\text{spam})$$\n",
        "\n",
        "$$P(\\text{message} \\mid \\text{non spam}) = P(w_1, w_2, . . . , w_d \\mid \\text{non spam}) \\approx \\prod_{i=1}^{d}P(w_i \\mid \\text{non spam})$$\n"
      ]
    },
    {
      "cell_type": "markdown",
      "metadata": {
        "id": "oRxKdaGVYfPd"
      },
      "source": [
        "### Going back to estimating $P(\\text{spam} \\mid \\text{message})$\n",
        "\n",
        "With naive Bayes' assumption, to calculate $P(\\text{spam} \\mid \\text{block} = 0, \\text{free} = 1, \\text{prize} = 0, \\text{urgent} = 1)$, we need the following:  \n",
        "1. Prior probability: $P(\\text{spam})$ \n",
        "2. Conditional probabilities: \n",
        "    1. $P(\\text{block} = 0 \\mid \\text{spam})$\n",
        "    2. $P(\\text{free} = 1 \\mid \\text{spam})$\n",
        "    3. $P(\\text{prize} = 0 \\mid \\text{spam})$\n",
        "    4. $P(\\text{urgent} = 1 \\mid \\text{spam})$\n",
        "\n",
        "We use our training data to calculate these probabilities. "
      ]
    },
    {
      "cell_type": "code",
      "metadata": {
        "colab": {
          "base_uri": "https://localhost:8080/",
          "height": 833
        },
        "id": "Gj0cXGZxYfPd",
        "outputId": "0e56f6e9-1988-4e5d-b502-bd9d638e1873"
      },
      "source": [
        "train_bow_df"
      ],
      "execution_count": 38,
      "outputs": [
        {
          "output_type": "execute_result",
          "data": {
            "text/html": [
              "<div>\n",
              "<style scoped>\n",
              "    .dataframe tbody tr th:only-of-type {\n",
              "        vertical-align: middle;\n",
              "    }\n",
              "\n",
              "    .dataframe tbody tr th {\n",
              "        vertical-align: top;\n",
              "    }\n",
              "\n",
              "    .dataframe thead th {\n",
              "        text-align: right;\n",
              "    }\n",
              "</style>\n",
              "<table border=\"1\" class=\"dataframe\">\n",
              "  <thead>\n",
              "    <tr style=\"text-align: right;\">\n",
              "      <th></th>\n",
              "      <th>block</th>\n",
              "      <th>free</th>\n",
              "      <th>prize</th>\n",
              "      <th>urgent</th>\n",
              "      <th>target</th>\n",
              "    </tr>\n",
              "  </thead>\n",
              "  <tbody>\n",
              "    <tr>\n",
              "      <th>URGENT!! As a valued network customer you have been selected to receive a £900 prize reward!</th>\n",
              "      <td>0</td>\n",
              "      <td>0</td>\n",
              "      <td>1</td>\n",
              "      <td>1</td>\n",
              "      <td>spam</td>\n",
              "    </tr>\n",
              "    <tr>\n",
              "      <th>Lol you are always so convincing.</th>\n",
              "      <td>0</td>\n",
              "      <td>0</td>\n",
              "      <td>0</td>\n",
              "      <td>0</td>\n",
              "      <td>non spam</td>\n",
              "    </tr>\n",
              "    <tr>\n",
              "      <th>Block 2 has interesting courses.</th>\n",
              "      <td>1</td>\n",
              "      <td>0</td>\n",
              "      <td>0</td>\n",
              "      <td>0</td>\n",
              "      <td>non spam</td>\n",
              "    </tr>\n",
              "    <tr>\n",
              "      <th>URGENT! You have won a 1 week FREE membership in our £100000 prize Jackpot!</th>\n",
              "      <td>0</td>\n",
              "      <td>1</td>\n",
              "      <td>1</td>\n",
              "      <td>1</td>\n",
              "      <td>spam</td>\n",
              "    </tr>\n",
              "    <tr>\n",
              "      <th>Had your mobile 11 months or more? U R entitled to Update to the latest colour mobiles with camera for Free!</th>\n",
              "      <td>0</td>\n",
              "      <td>1</td>\n",
              "      <td>0</td>\n",
              "      <td>0</td>\n",
              "      <td>spam</td>\n",
              "    </tr>\n",
              "    <tr>\n",
              "      <th>Block 2 has been interesting so far.</th>\n",
              "      <td>1</td>\n",
              "      <td>0</td>\n",
              "      <td>0</td>\n",
              "      <td>0</td>\n",
              "      <td>non spam</td>\n",
              "    </tr>\n",
              "  </tbody>\n",
              "</table>\n",
              "</div>"
            ],
            "text/plain": [
              "                                                                                                              block  ...    target\n",
              "URGENT!! As a valued network customer you have been selected to receive a £900 prize reward!                      0  ...      spam\n",
              "Lol you are always so convincing.                                                                                 0  ...  non spam\n",
              "Block 2 has interesting courses.                                                                                  1  ...  non spam\n",
              "URGENT! You have won a 1 week FREE membership in our £100000 prize Jackpot!                                       0  ...      spam\n",
              "Had your mobile 11 months or more? U R entitled to Update to the latest colour mobiles with camera for Free!      0  ...      spam\n",
              "Block 2 has been interesting so far.                                                                              1  ...  non spam\n",
              "\n",
              "[6 rows x 5 columns]"
            ]
          },
          "metadata": {},
          "execution_count": 38
        }
      ]
    },
    {
      "cell_type": "markdown",
      "metadata": {
        "id": "KEZ9qhONYfPd"
      },
      "source": [
        "- Prior probability\n",
        "    - $P(\\text{spam}) = 3/6$\n",
        "    \n",
        "- Conditional probabilities\n",
        "    - What is $P(\\text{block} = 0 \\mid \\text{spam})$? \n",
        "        - Given target is spam, how often \"block\" = 0? $3/3$\n",
        "    - $P(\\text{free} = 1 \\mid \\text{spam}) = 2/3$ \n",
        "    - $P(\\text{prize} = 0 \\mid \\text{spam}) = 1/3$\n",
        "    - $P(\\text{urgent} = 1 \\mid \\text{spam}) = 2/3$"
      ]
    },
    {
      "cell_type": "markdown",
      "metadata": {
        "id": "A5jxW49hYfPe"
      },
      "source": [
        "### Estimating $P(\\text{spam} \\mid \\text{message})$\n",
        "\n",
        "$$\\begin{equation}\n",
        "\\begin{split}\n",
        "P(\\text{spam} \\mid \\text{message}) &\\propto P(\\text{block} = 0, \\text{free} = 1, \\text{prize} = 0, \\text{urgent} = 1 \\mid \\text{spam}) \\times P(\\text{spam})\\\\\n",
        "&\\propto P(\\text{block} = 0 \\mid \\text{spam}) \\times P(\\text{free} = 1 \\mid \\text{spam}) \\\\\n",
        "& \\times P(\\text{prize} = 0 \\mid \\text{spam}) \\times P(\\text{urgent} = 1 \\mid \\text{spam}) \\times P(\\text{spam})\\\\\n",
        "&\\propto 3/3 \\times 2/3 \\times 1/3 \\times 2/3 \\times 3/6\\\\\n",
        "\\end{split}\n",
        "\\end{equation}$$\n"
      ]
    },
    {
      "cell_type": "code",
      "metadata": {
        "colab": {
          "base_uri": "https://localhost:8080/"
        },
        "id": "UJqxcrpnYfPe",
        "outputId": "9900b43f-14ea-43f6-fa06-6f4b18e433a8"
      },
      "source": [
        "spam_prior = 3/6\n",
        "block0_spam = 3/3\n",
        "free1_spam = 2/3\n",
        "prize0_spam = 1/3\n",
        "urgent1_spam = 2/3\n",
        "print((spam_prior * block0_spam * free1_spam * prize0_spam * urgent1_spam))"
      ],
      "execution_count": 39,
      "outputs": [
        {
          "output_type": "stream",
          "name": "stdout",
          "text": [
            "0.07407407407407407\n"
          ]
        }
      ]
    },
    {
      "cell_type": "markdown",
      "metadata": {
        "id": "3ARXVJEPYfPe"
      },
      "source": [
        "### Let's estimate $P(\\text{non spam} \\mid \\text{message})$\n",
        "\n",
        "With naive Bayes' assumption, to calculate $P(\\text{non spam} \\mid \\text{block} = 0, \\text{free} = 1, \\text{prize} = 0, \\text{urgent} = 1)$, we need the following:  \n",
        "1. Prior probability: $P(\\text{non spam})$ \n",
        "2. Conditional probabilities: \n",
        "    1. $P(\\text{block} = 0 \\mid \\text{non spam})$\n",
        "    2. $P(\\text{free} = 1 \\mid \\text{non spam})$\n",
        "    3. $P(\\text{prize} = 0 \\mid \\text{non spam})$\n",
        "    4. $P(\\text{urgent} = 1 \\mid \\text{non spam})$\n",
        "\n",
        "Again we use the data to calculate these probabilities. "
      ]
    },
    {
      "cell_type": "code",
      "metadata": {
        "colab": {
          "base_uri": "https://localhost:8080/",
          "height": 833
        },
        "id": "v8QWmoU8YfPe",
        "outputId": "b0580fec-13b4-4b65-ce1a-9715460b0e9d"
      },
      "source": [
        "train_bow_df"
      ],
      "execution_count": 40,
      "outputs": [
        {
          "output_type": "execute_result",
          "data": {
            "text/html": [
              "<div>\n",
              "<style scoped>\n",
              "    .dataframe tbody tr th:only-of-type {\n",
              "        vertical-align: middle;\n",
              "    }\n",
              "\n",
              "    .dataframe tbody tr th {\n",
              "        vertical-align: top;\n",
              "    }\n",
              "\n",
              "    .dataframe thead th {\n",
              "        text-align: right;\n",
              "    }\n",
              "</style>\n",
              "<table border=\"1\" class=\"dataframe\">\n",
              "  <thead>\n",
              "    <tr style=\"text-align: right;\">\n",
              "      <th></th>\n",
              "      <th>block</th>\n",
              "      <th>free</th>\n",
              "      <th>prize</th>\n",
              "      <th>urgent</th>\n",
              "      <th>target</th>\n",
              "    </tr>\n",
              "  </thead>\n",
              "  <tbody>\n",
              "    <tr>\n",
              "      <th>URGENT!! As a valued network customer you have been selected to receive a £900 prize reward!</th>\n",
              "      <td>0</td>\n",
              "      <td>0</td>\n",
              "      <td>1</td>\n",
              "      <td>1</td>\n",
              "      <td>spam</td>\n",
              "    </tr>\n",
              "    <tr>\n",
              "      <th>Lol you are always so convincing.</th>\n",
              "      <td>0</td>\n",
              "      <td>0</td>\n",
              "      <td>0</td>\n",
              "      <td>0</td>\n",
              "      <td>non spam</td>\n",
              "    </tr>\n",
              "    <tr>\n",
              "      <th>Block 2 has interesting courses.</th>\n",
              "      <td>1</td>\n",
              "      <td>0</td>\n",
              "      <td>0</td>\n",
              "      <td>0</td>\n",
              "      <td>non spam</td>\n",
              "    </tr>\n",
              "    <tr>\n",
              "      <th>URGENT! You have won a 1 week FREE membership in our £100000 prize Jackpot!</th>\n",
              "      <td>0</td>\n",
              "      <td>1</td>\n",
              "      <td>1</td>\n",
              "      <td>1</td>\n",
              "      <td>spam</td>\n",
              "    </tr>\n",
              "    <tr>\n",
              "      <th>Had your mobile 11 months or more? U R entitled to Update to the latest colour mobiles with camera for Free!</th>\n",
              "      <td>0</td>\n",
              "      <td>1</td>\n",
              "      <td>0</td>\n",
              "      <td>0</td>\n",
              "      <td>spam</td>\n",
              "    </tr>\n",
              "    <tr>\n",
              "      <th>Block 2 has been interesting so far.</th>\n",
              "      <td>1</td>\n",
              "      <td>0</td>\n",
              "      <td>0</td>\n",
              "      <td>0</td>\n",
              "      <td>non spam</td>\n",
              "    </tr>\n",
              "  </tbody>\n",
              "</table>\n",
              "</div>"
            ],
            "text/plain": [
              "                                                                                                              block  ...    target\n",
              "URGENT!! As a valued network customer you have been selected to receive a £900 prize reward!                      0  ...      spam\n",
              "Lol you are always so convincing.                                                                                 0  ...  non spam\n",
              "Block 2 has interesting courses.                                                                                  1  ...  non spam\n",
              "URGENT! You have won a 1 week FREE membership in our £100000 prize Jackpot!                                       0  ...      spam\n",
              "Had your mobile 11 months or more? U R entitled to Update to the latest colour mobiles with camera for Free!      0  ...      spam\n",
              "Block 2 has been interesting so far.                                                                              1  ...  non spam\n",
              "\n",
              "[6 rows x 5 columns]"
            ]
          },
          "metadata": {},
          "execution_count": 40
        }
      ]
    },
    {
      "cell_type": "markdown",
      "metadata": {
        "id": "l8Zo7RE4YfPf"
      },
      "source": [
        "- Prior probability \n",
        "    - $P(\\text{non spam}) = 3/6$\n",
        "\n",
        "- Conditional probabilities \n",
        "    - What is $P(\\text{block} = 0 \\mid \\text{non spam})$? \n",
        "        - Given target is non spam, how often \"block\" = 0? $1/3$\n",
        "    - $P(\\text{free} = 1 \\mid \\text{non spam}) = 0/3$ \n",
        "    - $P(\\text{prize} = 0 \\mid \\text{non spam}) = 3/3$\n",
        "    - $P(\\text{urgent} = 1 \\mid \\text{non spam}) = 0/3$"
      ]
    },
    {
      "cell_type": "markdown",
      "metadata": {
        "id": "1ynBJeg2YfPf"
      },
      "source": [
        "### Estimating $P(\\text{non spam} \\mid \\text{message})$\n",
        "\n",
        "$$\\begin{equation}\n",
        "\\begin{split}\n",
        "P(\\text{non spam} \\mid \\text{message}) &\\propto P(\\text{block} = 0, \\text{free} = 1, \\text{prize} = 0, \\text{urgent} = 1 \\mid \\text{non spam}) \\times P(\\text{non spam})\\\\\n",
        "&\\propto P(\\text{block} = 0 \\mid \\text{non spam}) \\times P(\\text{free} = 1 \\mid \\text{non spam}) \\\\\n",
        "& \\times P(\\text{prize} = 0 \\mid \\text{non spam}) \\times P(\\text{urgent} = 1 \\mid \\text{non spam}) \\times P(\\text{non spam})\\\\\n",
        "&\\propto 1/3 \\times 0 \\times 3/3 \\times 0 \\times 1/3\\\\\n",
        "\\end{split}\n",
        "\\end{equation}$$\n"
      ]
    },
    {
      "cell_type": "code",
      "metadata": {
        "colab": {
          "base_uri": "https://localhost:8080/"
        },
        "id": "dKGFuIESYfPg",
        "outputId": "c17a166d-0237-4a50-a4ca-7b370e53ef58"
      },
      "source": [
        "non_spam_prior = 3/6\n",
        "block0_non_spam = 0/3\n",
        "free1_non_spam = 1/3\n",
        "prize0_non_spam = 1/3\n",
        "urgent1_non_spam = 2/3\n",
        "print(non_spam_prior * block0_non_spam * free1_non_spam * prize0_non_spam * urgent1_non_spam)"
      ],
      "execution_count": 41,
      "outputs": [
        {
          "output_type": "stream",
          "name": "stdout",
          "text": [
            "0.0\n"
          ]
        }
      ]
    },
    {
      "cell_type": "markdown",
      "metadata": {
        "id": "ax-G6hnZYfPg"
      },
      "source": [
        "### Naive Bayes prediction\n",
        "\n",
        "Since $(\\text{spam} \\mid \\text{message})$ (0.074) is proportional to a larger number compared to $(\\text{non spam} \\mid \\text{message})$ (0), we predict $spam$! "
      ]
    },
    {
      "cell_type": "markdown",
      "metadata": {
        "id": "oUkH42xiYfPg"
      },
      "source": [
        "## 2. `predict_proba`"
      ]
    },
    {
      "cell_type": "markdown",
      "metadata": {
        "id": "-FCowCF4YfPg"
      },
      "source": [
        "### What is our toy pipeline's prediction? "
      ]
    },
    {
      "cell_type": "code",
      "metadata": {
        "colab": {
          "base_uri": "https://localhost:8080/"
        },
        "id": "r7ycC103YfPg",
        "outputId": "89a3311f-646c-45df-d3af-c94896bf2ffc"
      },
      "source": [
        "deploy_test = [\"URGENT! Free!!\"]\n",
        "pipe_nb_toy.predict(deploy_test)"
      ],
      "execution_count": 42,
      "outputs": [
        {
          "output_type": "execute_result",
          "data": {
            "text/plain": [
              "array(['spam'], dtype='<U8')"
            ]
          },
          "metadata": {},
          "execution_count": 42
        }
      ]
    },
    {
      "cell_type": "markdown",
      "metadata": {
        "id": "KSHQnCNOYfPg"
      },
      "source": [
        "### Naive Bayes classifier `predict_proba`\n",
        "- So far we have been looking into binary predictions but often a more granular information is useful. \n",
        "- Naive Bayes classifier gives you probability estimates for each class and we can get this information using `predict_proba` method of the classifier.  "
      ]
    },
    {
      "cell_type": "code",
      "metadata": {
        "colab": {
          "base_uri": "https://localhost:8080/"
        },
        "id": "ErYhMQjiYfPg",
        "outputId": "7e43d761-e432-4764-e377-13964e64a279"
      },
      "source": [
        "pipe_nb_toy.predict_proba(deploy_test)"
      ],
      "execution_count": 43,
      "outputs": [
        {
          "output_type": "execute_result",
          "data": {
            "text/plain": [
              "array([[0.23584906, 0.76415094]])"
            ]
          },
          "metadata": {},
          "execution_count": 43
        }
      ]
    },
    {
      "cell_type": "code",
      "metadata": {
        "colab": {
          "base_uri": "https://localhost:8080/"
        },
        "id": "ABDgdUMCYfPg",
        "outputId": "fccb5bcc-8c78-4d45-cc65-062729108ab9"
      },
      "source": [
        "pipe_nb_toy.classes_"
      ],
      "execution_count": 44,
      "outputs": [
        {
          "output_type": "execute_result",
          "data": {
            "text/plain": [
              "array(['non spam', 'spam'], dtype='<U8')"
            ]
          },
          "metadata": {},
          "execution_count": 44
        }
      ]
    },
    {
      "cell_type": "markdown",
      "metadata": {
        "id": "OKUW36ioYfPg"
      },
      "source": [
        "Above: The classifier is \"76% confident\" that the class is spam! "
      ]
    },
    {
      "cell_type": "markdown",
      "metadata": {
        "id": "vzbYrfzzYfPh"
      },
      "source": [
        "### Predicting probabilities\n",
        "\n",
        "- We have a new and useful method, `predict_proba`.\n",
        "- `predict` returns the class with the highest probability.\n",
        "- `predict_proba` gives us the actual probability scores. \n",
        "- Looking at the probabilities can help us understand the model.\n",
        "- We can find the spam messages where our classifier is most confident and least confident. "
      ]
    },
    {
      "cell_type": "markdown",
      "metadata": {
        "id": "HepOCdHAYfPh"
      },
      "source": [
        "### Why don't the calculations match?"
      ]
    },
    {
      "cell_type": "markdown",
      "metadata": {
        "id": "fZLrJukcYfPh"
      },
      "source": [
        "- Recall that when we worked through a toy example by hand, we estimated\n",
        "    - $P(\\text{non spam} \\mid \\text{message}) \\propto 0$\n",
        "    - $P(\\text{spam} \\mid \\text{message}) \\propto 0.074$\n",
        "- Why don't `predict_proba` scores match with the probability scores we calculated before? \n",
        "- The scores we computed are not normalized. Remember that we ignored the denominator.\n",
        "- These ones are normalized so that they sum to 1.\n",
        "- The model is using something called \"smoothing\" to avoid the problem of zero probabilities. "
      ]
    },
    {
      "cell_type": "markdown",
      "metadata": {
        "id": "chT949RxYfPh"
      },
      "source": [
        "## 3. Laplace smoothing\n",
        "\n"
      ]
    },
    {
      "cell_type": "code",
      "metadata": {
        "colab": {
          "base_uri": "https://localhost:8080/",
          "height": 303
        },
        "id": "b63J20p9YfPh",
        "outputId": "e37beebf-b914-4bd2-e366-249ef673f9b6"
      },
      "source": [
        "train_bow_df"
      ],
      "execution_count": 45,
      "outputs": [
        {
          "output_type": "execute_result",
          "data": {
            "text/html": [
              "<div>\n",
              "<style scoped>\n",
              "    .dataframe tbody tr th:only-of-type {\n",
              "        vertical-align: middle;\n",
              "    }\n",
              "\n",
              "    .dataframe tbody tr th {\n",
              "        vertical-align: top;\n",
              "    }\n",
              "\n",
              "    .dataframe thead th {\n",
              "        text-align: right;\n",
              "    }\n",
              "</style>\n",
              "<table border=\"1\" class=\"dataframe\">\n",
              "  <thead>\n",
              "    <tr style=\"text-align: right;\">\n",
              "      <th></th>\n",
              "      <th>block</th>\n",
              "      <th>free</th>\n",
              "      <th>prize</th>\n",
              "      <th>urgent</th>\n",
              "      <th>target</th>\n",
              "    </tr>\n",
              "  </thead>\n",
              "  <tbody>\n",
              "    <tr>\n",
              "      <th>URGENT!! As a valued network customer you have been selected to receive a £900 prize reward!</th>\n",
              "      <td>0</td>\n",
              "      <td>0</td>\n",
              "      <td>1</td>\n",
              "      <td>1</td>\n",
              "      <td>spam</td>\n",
              "    </tr>\n",
              "    <tr>\n",
              "      <th>Lol you are always so convincing.</th>\n",
              "      <td>0</td>\n",
              "      <td>0</td>\n",
              "      <td>0</td>\n",
              "      <td>0</td>\n",
              "      <td>non spam</td>\n",
              "    </tr>\n",
              "    <tr>\n",
              "      <th>Block 2 has interesting courses.</th>\n",
              "      <td>1</td>\n",
              "      <td>0</td>\n",
              "      <td>0</td>\n",
              "      <td>0</td>\n",
              "      <td>non spam</td>\n",
              "    </tr>\n",
              "    <tr>\n",
              "      <th>URGENT! You have won a 1 week FREE membership in our £100000 prize Jackpot!</th>\n",
              "      <td>0</td>\n",
              "      <td>1</td>\n",
              "      <td>1</td>\n",
              "      <td>1</td>\n",
              "      <td>spam</td>\n",
              "    </tr>\n",
              "    <tr>\n",
              "      <th>Had your mobile 11 months or more? U R entitled to Update to the latest colour mobiles with camera for Free!</th>\n",
              "      <td>0</td>\n",
              "      <td>1</td>\n",
              "      <td>0</td>\n",
              "      <td>0</td>\n",
              "      <td>spam</td>\n",
              "    </tr>\n",
              "    <tr>\n",
              "      <th>Block 2 has been interesting so far.</th>\n",
              "      <td>1</td>\n",
              "      <td>0</td>\n",
              "      <td>0</td>\n",
              "      <td>0</td>\n",
              "      <td>non spam</td>\n",
              "    </tr>\n",
              "  </tbody>\n",
              "</table>\n",
              "</div>"
            ],
            "text/plain": [
              "                                                                                                              block  ...    target\n",
              "URGENT!! As a valued network customer you have been selected to receive a £900 prize reward!                      0  ...      spam\n",
              "Lol you are always so convincing.                                                                                 0  ...  non spam\n",
              "Block 2 has interesting courses.                                                                                  1  ...  non spam\n",
              "URGENT! You have won a 1 week FREE membership in our £100000 prize Jackpot!                                       0  ...      spam\n",
              "Had your mobile 11 months or more? U R entitled to Update to the latest colour mobiles with camera for Free!      0  ...      spam\n",
              "Block 2 has been interesting so far.                                                                              1  ...  non spam\n",
              "\n",
              "[6 rows x 5 columns]"
            ]
          },
          "metadata": {},
          "execution_count": 45
        }
      ]
    },
    {
      "cell_type": "markdown",
      "metadata": {
        "id": "idSlPx-bYfPh"
      },
      "source": [
        "- Remember when we calculated $P(\\text{non spam} \\mid \\text{message})$, some of our conditional probabilities were zero. \n",
        "    - $P(\\text{free} = 1 \\mid \\text{non spam}) = 0/3$ \n",
        "    - $P(\\text{urgent} = 1 \\mid \\text{non spam}) = 0/3$\n",
        "\n",
        "- Naive Bayes naively multiplies all the feature likelihoods together, and if any of the terms is zero, it's going to void all other evidence and the probability of the class is going to be zero. \n",
        "- This is problematic! \n",
        "- **We have limited data and if we do not see a feature occurring with a class, it doesn't mean it would never occur with that class**. "
      ]
    },
    {
      "cell_type": "markdown",
      "metadata": {
        "id": "y2uX2yd4YfPh"
      },
      "source": [
        "### A simple solution: Laplace smoothing\n",
        "\n",
        "- The simplest way to avoid zero probabilities is to add one to all the counts.\n",
        "- All the counts that used to be zero will now have a count of 1, the counts of 1 will be 2, and so on. \n",
        "- In `scikit-learn` we control it using hyperparameter `alpha` (by default `alpha=1.0`). \n"
      ]
    },
    {
      "cell_type": "markdown",
      "metadata": {
        "id": "6jo1g5snYfPh"
      },
      "source": [
        "So our previous bag of words representation becomes like this: "
      ]
    },
    {
      "cell_type": "code",
      "metadata": {
        "colab": {
          "base_uri": "https://localhost:8080/",
          "height": 833
        },
        "id": "KAI_g3ZpYfPh",
        "outputId": "cccc4212-8d63-4fbb-9525-5ebaa3a6cd6f"
      },
      "source": [
        "data = pipe_nb_toy['countvectorizer'].transform(X)\n",
        "train_bow_df = pd.DataFrame(data.toarray() + 1, columns=pipe_nb_toy['countvectorizer'].get_feature_names(), index=X)\n",
        "train_bow_df['target'] = y\n",
        "train_bow_df"
      ],
      "execution_count": 46,
      "outputs": [
        {
          "output_type": "execute_result",
          "data": {
            "text/html": [
              "<div>\n",
              "<style scoped>\n",
              "    .dataframe tbody tr th:only-of-type {\n",
              "        vertical-align: middle;\n",
              "    }\n",
              "\n",
              "    .dataframe tbody tr th {\n",
              "        vertical-align: top;\n",
              "    }\n",
              "\n",
              "    .dataframe thead th {\n",
              "        text-align: right;\n",
              "    }\n",
              "</style>\n",
              "<table border=\"1\" class=\"dataframe\">\n",
              "  <thead>\n",
              "    <tr style=\"text-align: right;\">\n",
              "      <th></th>\n",
              "      <th>block</th>\n",
              "      <th>free</th>\n",
              "      <th>prize</th>\n",
              "      <th>urgent</th>\n",
              "      <th>target</th>\n",
              "    </tr>\n",
              "  </thead>\n",
              "  <tbody>\n",
              "    <tr>\n",
              "      <th>URGENT!! As a valued network customer you have been selected to receive a £900 prize reward!</th>\n",
              "      <td>1</td>\n",
              "      <td>1</td>\n",
              "      <td>2</td>\n",
              "      <td>2</td>\n",
              "      <td>spam</td>\n",
              "    </tr>\n",
              "    <tr>\n",
              "      <th>Lol you are always so convincing.</th>\n",
              "      <td>1</td>\n",
              "      <td>1</td>\n",
              "      <td>1</td>\n",
              "      <td>1</td>\n",
              "      <td>non spam</td>\n",
              "    </tr>\n",
              "    <tr>\n",
              "      <th>Block 2 has interesting courses.</th>\n",
              "      <td>2</td>\n",
              "      <td>1</td>\n",
              "      <td>1</td>\n",
              "      <td>1</td>\n",
              "      <td>non spam</td>\n",
              "    </tr>\n",
              "    <tr>\n",
              "      <th>URGENT! You have won a 1 week FREE membership in our £100000 prize Jackpot!</th>\n",
              "      <td>1</td>\n",
              "      <td>2</td>\n",
              "      <td>2</td>\n",
              "      <td>2</td>\n",
              "      <td>spam</td>\n",
              "    </tr>\n",
              "    <tr>\n",
              "      <th>Had your mobile 11 months or more? U R entitled to Update to the latest colour mobiles with camera for Free!</th>\n",
              "      <td>1</td>\n",
              "      <td>2</td>\n",
              "      <td>1</td>\n",
              "      <td>1</td>\n",
              "      <td>spam</td>\n",
              "    </tr>\n",
              "    <tr>\n",
              "      <th>Block 2 has been interesting so far.</th>\n",
              "      <td>2</td>\n",
              "      <td>1</td>\n",
              "      <td>1</td>\n",
              "      <td>1</td>\n",
              "      <td>non spam</td>\n",
              "    </tr>\n",
              "  </tbody>\n",
              "</table>\n",
              "</div>"
            ],
            "text/plain": [
              "                                                                                                              block  ...    target\n",
              "URGENT!! As a valued network customer you have been selected to receive a £900 prize reward!                      1  ...      spam\n",
              "Lol you are always so convincing.                                                                                 1  ...  non spam\n",
              "Block 2 has interesting courses.                                                                                  2  ...  non spam\n",
              "URGENT! You have won a 1 week FREE membership in our £100000 prize Jackpot!                                       1  ...      spam\n",
              "Had your mobile 11 months or more? U R entitled to Update to the latest colour mobiles with camera for Free!      1  ...      spam\n",
              "Block 2 has been interesting so far.                                                                              2  ...  non spam\n",
              "\n",
              "[6 rows x 5 columns]"
            ]
          },
          "metadata": {},
          "execution_count": 46
        }
      ]
    },
    {
      "cell_type": "markdown",
      "metadata": {
        "id": "L84nm0sWYfPh"
      },
      "source": [
        "### Adjusting the counts \n",
        "\n",
        "Note that the following calculations would change now with updated counts now: \n",
        "\n",
        "$$P(\\text{word} \\mid \\text{spam}) = \\frac{Count(\\text{word}, \\text{spam}) + 1}{\\sum_{w \\in vocabulary} Count(w, \\text{spam}) + |vocabulary|}$$"
      ]
    },
    {
      "cell_type": "markdown",
      "metadata": {
        "id": "TiiuE5oJYfPh"
      },
      "source": [
        "### `alpha` hyperparameter and the fundamental tradeoff \n",
        "\n",
        "- High alpha $\\rightarrow$ underfitting\n",
        "    - means we are adding large counts to everything and so we are diluting the information from the data\n",
        "- Low alpha $\\rightarrow$ overfitting"
      ]
    },
    {
      "cell_type": "markdown",
      "metadata": {
        "id": "Prhi4rcfYfPi"
      },
      "source": [
        "###  Gaussian Naive Bayes\n",
        "\n",
        "- If a dataset has continuous-valued features.\n",
        "- But so far, we've only seen how to use Naive Bayes for discrete features.\n",
        "- We can either discretize our continuous features into discrete bins (with counts), or...\n",
        "- Use _Gaussian_ naive Bayes (read more [here](https://machinelearningmastery.com/naive-bayes-for-machine-learning/) and [here](https://en.wikipedia.org/wiki/Naive_Bayes_classifier#Gaussian_naive_Bayes))\n",
        "- Now:\n",
        "    - Assume each feature is normally distributed \n",
        "    - Calculate the mean ($\\mu_k$) and standard deviation ($\\sigma_k$) for each feature for each class\n",
        "    - Use the following equation to calculate the conditional probability of observing feature value $v$ (occurence of a word in our previous example) in class $C_k$ (Spam/ham in our previous example)"
      ]
    },
    {
      "cell_type": "markdown",
      "metadata": {
        "id": "mpkxYa6QYfPi"
      },
      "source": [
        "<img src='./img/gaus_nb.png' width=\"250\">\n",
        "\n",
        "\n",
        "Source: [Wikipedia](https://en.wikipedia.org/wiki/Naive_Bayes_classifier#Gaussian_naive_Bayes)"
      ]
    },
    {
      "cell_type": "markdown",
      "metadata": {
        "id": "NzrdQ1mPYfPi"
      },
      "source": [
        "- Gaussian naive Bayes assumes features are normally distributed\n",
        "    - Are our features normal?\n",
        "    - Not really but in practice we transform our data to try and make it more normal\n",
        "    - Scikit-learn provides the `PowerTransformer()` for this process\n",
        "    - From the [docs](https://scikit-learn.org/stable/modules/generated/sklearn.preprocessing.PowerTransformer.html#sklearn.preprocessing.PowerTransformer): \"*...Power transforms are a family of parametric, monotonic transformations that are applied to make data more Gaussian-like.*\"    "
      ]
    },
    {
      "cell_type": "markdown",
      "metadata": {
        "id": "Zj5wx9hxYfPi"
      },
      "source": [
        "### Pros of naive Bayes\n",
        "\n",
        "- Surprising accuracy \n",
        "- A fast and robust way to learn the corresponding parameters\n",
        "- Scales great; learning a naive Bayes classifier is just a matter of counting how many times each attribute co-occurs with each class\n",
        "- Can be easily used for multi-class classification. \n",
        "- It's closely related to linear classifiers we'll see in the next lecture. \n",
        "    - When we take the logarithms, the products (from the Naive bayes assumption) turn into summations. \n",
        "- Can provides a informative set of features from which to predict the class (next class)"
      ]
    },
    {
      "cell_type": "markdown",
      "metadata": {
        "id": "tIvV3mNWYfPi"
      },
      "source": [
        "### Cons of naive Bayes\n",
        "\n",
        "- Assumes that spammers generate e-mails by picking words at random. It means that sentences have no syntax and content. Is that a fair assumption? \n",
        "    - oversimplification \n",
        "    - sometimes the best theories are the most oversimplified, provided their predictions are accurate, because they explain the most with the least. \n",
        "\n"
      ]
    },
    {
      "cell_type": "markdown",
      "metadata": {
        "id": "7skehxxrYfPi"
      },
      "source": [
        "## Support Vector Machines"
      ]
    },
    {
      "cell_type": "code",
      "metadata": {
        "id": "SrxHrL9fYfPi"
      },
      "source": [
        "from sklearn.model_selection import train_test_split \n",
        "from sklearn.svm import SVC, SVR, LinearSVC\n",
        "\n",
        "# Other\n",
        "import pandas as pd\n",
        "import numpy as np\n",
        "\n",
        "from plot_classifier import plot_classifier\n",
        "import matplotlib.pyplot as plt\n",
        "%matplotlib inline\n",
        "\n",
        "import warnings\n",
        "warnings.simplefilter(action='ignore', category=FutureWarning)\n",
        "\n",
        "from plot_classifier import plot_classifier\n",
        "from sklearn.dummy import DummyClassifier\n",
        "from sklearn.model_selection import train_test_split, cross_validate\n",
        "from sklearn.neighbors import KNeighborsClassifier, KNeighborsRegressor"
      ],
      "execution_count": 47,
      "outputs": []
    },
    {
      "cell_type": "markdown",
      "metadata": {
        "id": "v6rGIPkpYfPi"
      },
      "source": [
        "- Similarity-based algorithm.\n",
        "- Superficially, SVMs are more like weighted $k$-NNs. $k$-NNs are the Supervised Learning cousin of K-means.\n",
        "    - The decision boundary is defined by **a set of positive and negative examples** and **their weights** together with **their similarity measure**. \n",
        "    - A test example is a positive if on average it looks more like positive examples than the negative examples. \n",
        "\n",
        "- What makes SVMs special is that they only remember key examples (support vectors). So it's more efficient than other similarity-based algorithms.\n",
        "\n",
        "- SVMs use a similarity metric which is called a \"kernel\" in SVM land. A popular kernel is Radial Basis Functions (RBFs) which we will use today.\n",
        "- https://en.wikipedia.org/wiki/Radial_basis_function_kernel"
      ]
    },
    {
      "cell_type": "code",
      "metadata": {
        "colab": {
          "base_uri": "https://localhost:8080/",
          "height": 279
        },
        "id": "Q7XnC6eKYfPi",
        "outputId": "902e5408-e8e7-492d-b50c-f1586f1726df"
      },
      "source": [
        "cities_df = pd.read_csv('canada_usa_cities.csv')\n",
        "train_df, test_df = train_test_split(cities_df, test_size=0.2, random_state=123)\n",
        "canada = train_df.query('country == \"Canada\"')\n",
        "usa = train_df.query('country == \"USA\"')\n",
        "plt.scatter(canada[\"longitude\"], canada[\"latitude\"], color=\"red\", alpha=0.6)\n",
        "plt.scatter(usa[\"longitude\"], usa[\"latitude\"], color=\"blue\", alpha=0.6)\n",
        "plt.ylabel(\"latitude\")\n",
        "plt.xlabel(\"longitude\");"
      ],
      "execution_count": 50,
      "outputs": [
        {
          "output_type": "display_data",
          "data": {
            "image/png": "[encoded data removed]",
            "text/plain": [
              "<Figure size 432x288 with 1 Axes>"
            ]
          },
          "metadata": {
            "needs_background": "light"
          }
        }
      ]
    },
    {
      "cell_type": "code",
      "metadata": {
        "id": "Lffe3kyXYfPi"
      },
      "source": [
        "# split into training/validation and testing set\n",
        "X_train, y_train = train_df.drop(columns=['country']), train_df['country']\n",
        "X_test, y_test = test_df.drop(columns=['country']), test_df['country']"
      ],
      "execution_count": 51,
      "outputs": []
    },
    {
      "cell_type": "code",
      "metadata": {
        "colab": {
          "base_uri": "https://localhost:8080/"
        },
        "id": "F8bjGyiwYfPi",
        "outputId": "23a11dac-6a0b-444f-f9a2-b2cbf20b3e4c"
      },
      "source": [
        "from sklearn.svm import SVC\n",
        "\n",
        "svm = SVC(gamma=0.01) # Ignore gamma for now\n",
        "svm.fit(X_train, y_train)\n",
        "print(\"Train scores: \", round(svm.score(X_train, y_train), 4))\n",
        "print(\"Test scores: \", round(svm.score(X_test, y_test), 4))"
      ],
      "execution_count": 52,
      "outputs": [
        {
          "output_type": "stream",
          "name": "stdout",
          "text": [
            "Train scores:  0.8383\n",
            "Test scores:  0.8333\n"
          ]
        }
      ]
    },
    {
      "cell_type": "code",
      "metadata": {
        "colab": {
          "base_uri": "https://localhost:8080/",
          "height": 485
        },
        "id": "Fp8F7H_ZYfPj",
        "outputId": "7dd578c8-f50f-47c7-a1d7-7757eb7b76d2"
      },
      "source": [
        "# You can think of SVM with RBF kernel as \"smooth KNN\"\n",
        "plt.figure(figsize=(8, 8))\n",
        "plt.title(\"SVC\")\n",
        "plot_classifier(X_train, y_train, svm, ax=plt.gca());"
      ],
      "execution_count": 53,
      "outputs": [
        {
          "output_type": "display_data",
          "data": {
            "image/png": "[encoded data removed]",
            "text/plain": [
              "<Figure size 576x576 with 1 Axes>"
            ]
          },
          "metadata": {}
        }
      ]
    },
    {
      "cell_type": "markdown",
      "metadata": {
        "id": "3OjEmXi0YfPj"
      },
      "source": [
        "#### Support vectors \n",
        "\n",
        "- Each training example either is or isn't a \"support vector\".\n",
        "  - This gets decided during `fit`.\n",
        "\n",
        "- **Main insight: the decision boundary only depends on the support vectors.**\n",
        "\n",
        "- Let's look at the support vectors. "
      ]
    },
    {
      "cell_type": "markdown",
      "metadata": {
        "id": "dRSluDWcYfPj"
      },
      "source": [
        "SVM is going to leverage the dataset and find the best values **$w^{(*)}$** and **$b^{(*)}$** for parameters $w$ and $b$. \n",
        "\n",
        "Then, the learning algorithm is defined as:\n",
        "\n",
        "> $f(x) = sign(w^{(*)}x − b^{(*)})$\n",
        "\n",
        "Now, to predict whether a **new** review is positive or negative using an SVM model, you have to take the text of the review, convert it into a feature vector, then multiply this vector by **$w^{(*)}$** , subtract **$b^{(*)}$** and take the sign of the result. \n",
        "\n",
        "If you get +1, then, the review is a positive review. If you get a -1, then, you have a negative review. "
      ]
    },
    {
      "cell_type": "markdown",
      "metadata": {
        "id": "Vdxvlt6WYfPj"
      },
      "source": [
        "We want a hyperplane that separates positive examples from negative ones with the **largest margin**. \n",
        "\n",
        "If the margin or decision boundary is large, it contributes to a better generalization, that is how well the model will classify new examples in the future. \n",
        "\n",
        "<img src=\"img/svmplanes.PNG\" style=\"width: 700px;\"/>\n",
        "\n",
        "For two-dimensional feature vectors, we can easily visualize the solution. The blue and orange circles represent, respectively, positive and negative examples. The line given by $wx − b = 0$ is the decision boundary.\n",
        "\n",
        "That’s how Support Vector Machines work. This particular version of the algorithm builds the so-called linear model. It’s called linear because the decision boundary is a straight line (or a plane, or a hyperplane)."
      ]
    },
    {
      "cell_type": "markdown",
      "metadata": {
        "id": "OFRfIFwQYfPj"
      },
      "source": [
        "<img src=\"img/img1.png\" alt=\"Drawing\" style=\"width: 600px;\"/>"
      ]
    },
    {
      "cell_type": "code",
      "metadata": {
        "id": "dE59LOkYYfPj"
      },
      "source": [
        "# demo with a synthetic data set\n",
        "n = 20\n",
        "X = np.random.randn(n,2)\n",
        "y = np.random.choice((-1,+1),size=n)\n",
        "X[y>0,0] -= 2\n",
        "X[y>0,1] += 2"
      ],
      "execution_count": null,
      "outputs": []
    },
    {
      "cell_type": "code",
      "metadata": {
        "id": "u8PTgDemYfPj"
      },
      "source": [
        "svm = SVC(kernel=\"linear\", C=1e6) # ignore the C=1e6 for now\n",
        "svm.fit(X,y)\n",
        "\n",
        "plt.figure(figsize=(4,4))\n",
        "plot_classifier(X,y,svm, ax=plt.gca())\n",
        "plt.scatter(*svm.support_vectors_.T, marker=\"o\", edgecolor=\"yellow\", facecolor=\"none\", s=120);"
      ],
      "execution_count": null,
      "outputs": []
    },
    {
      "cell_type": "markdown",
      "metadata": {
        "id": "1N8ybfTvYfPj"
      },
      "source": [
        "- The support vectors (SVs) are shown in yellow.\n",
        "- These are the example that \"support\" the boundary. \n",
        "\n",
        "Below: let's try removing all other examples, keeping only the SVs."
      ]
    },
    {
      "cell_type": "code",
      "metadata": {
        "id": "uZKSVn0WYfPj"
      },
      "source": [
        "sv = svm.support_\n",
        "not_sv = list(set(range(n)) - set(sv))"
      ],
      "execution_count": null,
      "outputs": []
    },
    {
      "cell_type": "code",
      "metadata": {
        "id": "FwGuD4R5YfPj"
      },
      "source": [
        "# remove all non-support vectors\n",
        "X3 = np.delete(X,not_sv,0)\n",
        "y3 = np.delete(y,not_sv,0)\n",
        "\n",
        "svm3 = SVC(kernel=\"linear\", C=1e6)\n",
        "svm3.fit(X3,y3)\n",
        "\n",
        "plt.figure(figsize=(8,4))\n",
        "plt.subplot(1,2,1)\n",
        "plot_classifier(X,y,svm, ax=plt.gca())\n",
        "plt.scatter(*svm.support_vectors_.T, marker=\"o\", edgecolor=\"yellow\", facecolor=\"none\", s=120);\n",
        "plt.title(\"Original\");\n",
        "plt.subplot(1,2,2)\n",
        "plot_classifier(X3,y3,svm3, ax=plt.gca(), lims=(X[:,0].min()-1,X[:,0].max()+1,X[:,1].min()-1,X[:,1].max()+1))\n",
        "plt.title(\"SVs only\");\n",
        "\n",
        "print(svm.coef_)\n",
        "print(svm3.coef_)\n",
        "print(\"The coefficients are the same!\")"
      ],
      "execution_count": null,
      "outputs": []
    },
    {
      "cell_type": "code",
      "metadata": {
        "id": "amtrmjmVYfPk"
      },
      "source": [
        "# remove a support vector\n",
        "X2 = np.delete(X,sv[0],0)\n",
        "y2 = np.delete(y,sv[0],0)\n",
        "\n",
        "svm2 = SVC(kernel=\"linear\", C=1e6)\n",
        "svm2.fit(X2,y2);\n",
        "\n",
        "plt.figure(figsize=(8,4))\n",
        "plt.subplot(1,2,1)\n",
        "plot_classifier(X,y,svm, ax=plt.gca())\n",
        "plt.scatter(*svm.support_vectors_.T, marker=\"o\", edgecolor=\"yellow\", facecolor=\"none\", s=120);\n",
        "plt.title(\"Original\");\n",
        "\n",
        "plt.subplot(1,2,2)\n",
        "plot_classifier(X2,y2,svm2, ax=plt.gca())\n",
        "# plt.scatter(*svm2.support_vectors_.T, marker=\"o\", edgecolor=\"yellow\", facecolor=\"none\", s=120);\n",
        "plt.scatter(svm.support_vectors_[0,0], svm.support_vectors_[0,1], marker=\"x\", c=\"yellow\")\n",
        "plt.title(\"With one SV removed\");\n",
        "\n",
        "print(svm.coef_)\n",
        "print(svm2.coef_)"
      ],
      "execution_count": null,
      "outputs": []
    },
    {
      "cell_type": "markdown",
      "metadata": {
        "id": "APArJwo5YfPk"
      },
      "source": [
        "- The **margin** is the distance from the boundary to the nearest point(s).\n",
        "- Maximizing the margin is a \"maximin\" problem: maximize the minimum distance to the boundary.\n",
        "- Intuitively, more margin is good because it leaves more \"room\" before we make an error.\n",
        "- Above: it looks like SVM maximizes the margin.\n",
        "- QUESTION: What does linear regression do?"
      ]
    },
    {
      "cell_type": "code",
      "metadata": {
        "id": "Gt-CFwubYfPk"
      },
      "source": [
        "plt.figure()\n",
        "plot_classifier(X, y, svm, ax=plt.gca());\n",
        "plt.scatter(*svm.support_vectors_.T, marker=\"o\", edgecolor=\"yellow\", facecolor=\"none\", s=120);\n",
        "plt.axis('equal');\n",
        "plt.axis('square');\n",
        "\n",
        "def SV_proj(svm):\n",
        "    v = svm.support_vectors_\n",
        "    s = np.array([svm.coef_.flatten()[1], -svm.coef_.flatten()[0]])\n",
        "    w = svm.coef_\n",
        "    return (v@s[:,None])/(s@s) * s - w/(w@w.T)*svm.intercept_\n",
        "proj = SV_proj(svm)\n",
        "\n",
        "for i in range(len(proj)):\n",
        "    p = proj[i]\n",
        "    sv = svm.support_vectors_[i]\n",
        "    plt.plot((p[0],sv[0]),(p[1],sv[1]), 'yellow')"
      ],
      "execution_count": null,
      "outputs": []
    },
    {
      "cell_type": "markdown",
      "metadata": {
        "id": "n0x-k0LiYfPk"
      },
      "source": [
        "### Hyperparameters of SVM \n",
        "\n",
        "- Key hyperparameters of `rbf` SVM are\n",
        "    - `gamma`\n",
        "    - `C`\n",
        "    \n",
        "- We are not equipped to understand the meaning of these parameters at this point but you are expected to describe their relation to the fundamental tradeoff. \n",
        "\n",
        "See [`scikit-learn`'s explanation of RBF SVM parameters](https://scikit-learn.org/stable/auto_examples/svm/plot_rbf_parameters.html). "
      ]
    },
    {
      "cell_type": "markdown",
      "metadata": {
        "id": "PrzVS5QsYfPk"
      },
      "source": [
        "### Relation of `gamma` and the fundamental trade-off\n",
        "\n",
        "- `gamma` controls the complexity (fundamental trade-off), just like other hyperparameters we've seen.\n",
        "  - larger `gamma` $\\rightarrow$ more complex $\\rightarrow$ can lead to overfitting\n",
        "  - smaller `gamma` $\\rightarrow$ less complex $\\rightarrow$ can lead to underfitting"
      ]
    },
    {
      "cell_type": "markdown",
      "metadata": {
        "id": "p68q8gaGYfPk"
      },
      "source": [
        "### Relation of `C` and the fundamental trade-off\n",
        "\n",
        "- `C` _also_ affects the fundamental tradeoff\n",
        "    - larger `C` $\\rightarrow$ more complex $\\rightarrow$ can lead to overfitting\n",
        "    - smaller `C` $\\rightarrow$ less complex $\\rightarrow$ can lead to underfitting"
      ]
    },
    {
      "cell_type": "markdown",
      "metadata": {
        "id": "zKjBqT6QYfPk"
      },
      "source": [
        "**C helps us deal with Noise**\n",
        "\n",
        "To extend SVM to cases in which the data is not linearly separable, we introduce the Hinge Loss Function: \n",
        "\n",
        "$max(0, 1− y_i(wx_i − b))$. *don't worry too much about this."
      ]
    },
    {
      "cell_type": "markdown",
      "metadata": {
        "id": "z33s4u7zYfPk"
      },
      "source": [
        "The Hinge Loss Function is zero if $wx_i$ lies on the correct side of the decision boundary. \n",
        "For data on the wrong side of the decision boundary, the function’s value is proportional to the distance from the decision boundary.\n",
        "\n",
        "\n",
        "By changing the Hyperparamenter C, we determine the tradeoff between increasing the size of the decision boundary and trying to get each $x_i$ in the correct side of the decision boundary. \n",
        "\n",
        "SVMs that optimize hinge loss are called **soft-margin SVMs**, while the original formulation is referred to as a **hard-margin SVM**."
      ]
    },
    {
      "cell_type": "markdown",
      "metadata": {
        "id": "dPD6LXZ4YfPk"
      },
      "source": [
        "For sufficiently high values of C, the second term in the cost function will become negligible, so the SVM algorithm will try to find the highest margin by completely ignoring misclassification. As we decrease the value of C, making classification errors is becoming more costly, so the SVM algorithm tries to make fewer mistakes by sacrificing the margin size. **A larger margin is better for generalization.**\n",
        "\n",
        "C regulates the tradeoff between classifying the training data well (minimizing empirical risk) and classifying future examples well (generalization)."
      ]
    },
    {
      "cell_type": "markdown",
      "metadata": {
        "id": "RPJ9GAHyYfPk"
      },
      "source": [
        "<img src=\"img/img4.png\" alt=\"Drawing\" style=\"width: 400px;\"/>"
      ]
    },
    {
      "cell_type": "markdown",
      "metadata": {
        "id": "obdCdDyzYfPl"
      },
      "source": [
        "### The Kernel Trick\n",
        "\n",
        "1. What if there’s noise in the data and no hyperplane can perfectly separate positive examples from negative ones?\n",
        "2. What if the data cannot be separated using a plane, but could be separated by a higher-order polynomial?\n",
        "\n",
        "SVM can also incorporate kernels that can make the decision boundary arbitrarily non-linear. In some cases, it could be impossible to perfectly separate the two groups of points because of noise in the data, errors of labeling, or outliers. \n",
        "\n",
        "You can see both situations in the next figure. In the left case, the data could be separated by a straight line if not for the noise (outliers or examples with wrong labels). \n",
        "\n",
        "In the right case, the decision boundary is a circle and not a straight line."
      ]
    },
    {
      "cell_type": "markdown",
      "metadata": {
        "id": "dPryDZN6YfPl"
      },
      "source": [
        "<img src=\"img/img2.png\" alt=\"Drawing\" style=\"width: 500px;\"/>"
      ]
    },
    {
      "cell_type": "markdown",
      "metadata": {
        "id": "LlNA9PNKYfPl"
      },
      "source": [
        "**Dealing with Inherent Non-Linearity**\n",
        "SVM can be adapted to work with datasets that cannot be separated by a hyperplane in its original space. Indeed, if we manage to transform the original space into a space of higher dimensionality, we could hope that the examples will become linearly separable in this transformed space. In SVMs, using a function to implicitly transform the original space into a higher dimensional space during the cost function optimization is called the kernel trick."
      ]
    },
    {
      "cell_type": "markdown",
      "metadata": {
        "id": "3mdXFJ_MYfPl"
      },
      "source": [
        "<img src=\"img/img3.png\" alt=\"Drawing\" style=\"width: 600px;\"/>"
      ]
    },
    {
      "cell_type": "markdown",
      "metadata": {
        "id": "lFub6q-7YfPl"
      },
      "source": [
        "It’s possible to transform a two-dimensional non-linearly-separable data into a linearly-separable threedimensional\n",
        "data using a specific mapping. For example: 2D data into a 3D space. Now, the data becomes\n",
        "linearly separable in the transformed space.\n",
        "\n",
        "However, we don’t know a priori which mapping would work for our data. \n",
        "\n",
        "\n",
        "\n",
        "By using the kernel trick, we can get rid of a costly transformation of original feature vectors into higher dimensional vectors and avoid computing their dot-product."
      ]
    },
    {
      "cell_type": "code",
      "metadata": {
        "id": "xVKop-upYfPl"
      },
      "source": [
        "n = 20\n",
        "d = 2\n",
        "np.random.seed(0)\n",
        "X = np.random.randn(n,d)\n",
        "y = np.sum(X**2,axis=1) < 0.4\n",
        "\n",
        "plt.scatter(X[:,0], X[:,1], c=y);\n",
        "plt.xlabel(\"$x_{i1}$\", fontsize=20);\n",
        "plt.ylabel(\"$x_{i2}$\", fontsize=20);"
      ],
      "execution_count": null,
      "outputs": []
    },
    {
      "cell_type": "code",
      "metadata": {
        "id": "PPM5vsKpYfPl"
      },
      "source": [
        "svm = SVC(kernel=\"linear\")\n",
        "svm.fit(X,y)\n",
        "\n",
        "plot_classifier(X,y,svm)\n",
        "\n",
        "print(\"Training accuracy\", svm.score(X,y))"
      ],
      "execution_count": null,
      "outputs": []
    },
    {
      "cell_type": "code",
      "metadata": {
        "id": "qGlpOXyKYfPl"
      },
      "source": [
        "Z = X**2\n",
        "\n",
        "plt.scatter(Z[:,0], Z[:,1], c=y);\n",
        "plt.xlabel(\"$z_{i1}$\", fontsize=20);\n",
        "plt.ylabel(\"$z_{i2}$\", fontsize=20);"
      ],
      "execution_count": null,
      "outputs": []
    },
    {
      "cell_type": "code",
      "metadata": {
        "id": "HB2b3XH0YfPl"
      },
      "source": [
        "svm = SVC(kernel=\"linear\", C=100)\n",
        "svm.fit(Z,y)\n",
        "\n",
        "plot_classifier(Z,y,svm)\n",
        "\n",
        "print(\"Training accuracy\", svm.score(Z,y))"
      ],
      "execution_count": null,
      "outputs": []
    },
    {
      "cell_type": "code",
      "metadata": {
        "id": "biUT33jNYfPm"
      },
      "source": [
        "plot_classifier(X, y, svm, transformation=lambda X: X**2);"
      ],
      "execution_count": null,
      "outputs": []
    },
    {
      "cell_type": "code",
      "metadata": {
        "id": "-cTpU1ujYfPm"
      },
      "source": [
        ""
      ],
      "execution_count": null,
      "outputs": []
    }
  ]
}